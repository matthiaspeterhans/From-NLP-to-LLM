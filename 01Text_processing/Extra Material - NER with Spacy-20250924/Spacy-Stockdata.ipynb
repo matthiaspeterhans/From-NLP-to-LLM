{
 "cells": [
  {
   "cell_type": "markdown",
   "id": "a4b46672",
   "metadata": {},
   "source": [
    "# NLP with spacy: Stock example"
   ]
  },
  {
   "cell_type": "code",
   "execution_count": null,
   "id": "4b740a09",
   "metadata": {},
   "outputs": [],
   "source": [
    "### Example NLP\n",
    "import spacy\n",
    "import pandas as pd\n",
    "df = pd.read_csv(\"stock.tsv\", sep='\\t')"
   ]
  },
  {
   "cell_type": "code",
   "execution_count": null,
   "id": "42a534da",
   "metadata": {},
   "outputs": [],
   "source": [
    "df"
   ]
  },
  {
   "cell_type": "code",
   "execution_count": null,
   "id": "8a60da8a",
   "metadata": {},
   "outputs": [],
   "source": [
    "symbols = df.Symbol.tolist()\n",
    "companies = df.CompanyName.tolist()"
   ]
  },
  {
   "cell_type": "code",
   "execution_count": null,
   "id": "ea5f1e93",
   "metadata": {},
   "outputs": [],
   "source": [
    "stops = [\"two\"]\n",
    "nlp = spacy.blank(\"en\")\n",
    "ruler = nlp.add_pipe(\"entity_ruler\")\n",
    "letters = \"ABCDEFGHIJKLMNOPQRSTUVWXYZ\"\n",
    "patterns = []\n",
    "\n",
    "for symbol in symbols:\n",
    "    patterns.append({\"label\": \"STOCK\", \"pattern\": symbol})\n",
    "    for l in letters:\n",
    "        patterns.append({\"label\": \"STOCK\", \"pattern\": symbol+f\".{l}\"})\n",
    "        \n",
    "for company in companies:\n",
    "    if company not in stops:\n",
    "        patterns.append({\"label\": \"COMPANY\", \"pattern\": company})\n",
    "        w\n",
    "ruler.add_patterns(patterns)"
   ]
  },
  {
   "cell_type": "code",
   "execution_count": null,
   "id": "75044785",
   "metadata": {},
   "outputs": [],
   "source": [
    "#source: https://www.reuters.com/business/futures-rise-after-biden-xi-call-oil-bounce-2021-09-10/\n",
    "text = '''\n",
    "Sept 10 (Reuters) - Wall Street's main indexes were subdued on Friday as signs of higher inflation and a drop in Apple shares following an unfavorable court ruling offset expectations of an easing in U.S.-China tensions.\n",
    "\n",
    "Data earlier in the day showed U.S. producer prices rose solidly in August, leading to the biggest annual gain in nearly 11 years and indicating that high inflation was likely to persist as the pandemic pressures supply chains. read more .\n",
    "\n",
    "\"Today's data on wholesale prices should be eye-opening for the Federal Reserve, as inflation pressures still don't appear to be easing and will likely continue to be felt by the consumer in the coming months,\" said Charlie Ripley, senior investment strategist for Allianz Investment Management.\n",
    "\n",
    "Apple Inc (AAPL.O) fell 2.7% following a U.S. court ruling in \"Fortnite\" creator Epic Games' antitrust lawsuit that stroke down some of the iPhone maker's restrictions on how developers can collect payments in apps.\n",
    "\n",
    "\n",
    "Sponsored by Advertising Partner\n",
    "Sponsored Video\n",
    "Watch to learn more\n",
    "Report ad\n",
    "Apple shares were set for their worst single-day fall since May this year, weighing on the Nasdaq (.IXIC) and the S&P 500 technology sub-index (.SPLRCT), which fell 0.1%.\n",
    "\n",
    "Sentiment also took a hit from Cleveland Federal Reserve Bank President Loretta Mester's comments that she would still like the central bank to begin tapering asset purchases this year despite the weak August jobs report. read more\n",
    "\n",
    "Investors have paid keen attention to the labor market and data hinting towards higher inflation recently for hints on a timeline for the Federal Reserve to begin tapering its massive bond-buying program.\n",
    "\n",
    "The S&P 500 has risen around 19% so far this year on support from dovish central bank policies and re-opening optimism, but concerns over rising coronavirus infections and accelerating inflation have lately stalled its advance.\n",
    "\n",
    "\n",
    "Report ad\n",
    "The three main U.S. indexes got some support on Friday from news of a phone call between U.S. President Joe Biden and Chinese leader Xi Jinping that was taken as a positive sign which could bring a thaw in ties between the world's two most important trading partners.\n",
    "\n",
    "At 1:01 p.m. ET, the Dow Jones Industrial Average (.DJI) was up 12.24 points, or 0.04%, at 34,891.62, the S&P 500 (.SPX) was up 2.83 points, or 0.06%, at 4,496.11, and the Nasdaq Composite (.IXIC) was up 12.85 points, or 0.08%, at 15,261.11.\n",
    "\n",
    "Six of the eleven S&P 500 sub-indexes gained, with energy (.SPNY), materials (.SPLRCM) and consumer discretionary stocks (.SPLRCD) rising the most.\n",
    "\n",
    "U.S.-listed Chinese e-commerce companies Alibaba and JD.com , music streaming company Tencent Music (TME.N) and electric car maker Nio Inc (NIO.N) all gained between 0.7% and 1.4%\n",
    "\n",
    "\n",
    "Report ad\n",
    "Grocer Kroger Co (KR.N) dropped 7.1% after it said global supply chain disruptions, freight costs, discounts and wastage would hit its profit margins.\n",
    "\n",
    "Advancing issues outnumbered decliners by a 1.12-to-1 ratio on the NYSE and by a 1.02-to-1 ratio on the Nasdaq.\n",
    "\n",
    "The S&P index recorded 14 new 52-week highs and three new lows, while the Nasdaq recorded 49 new highs and 38 new lows.\n",
    "'''"
   ]
  },
  {
   "cell_type": "code",
   "execution_count": null,
   "id": "87424628",
   "metadata": {},
   "outputs": [],
   "source": [
    "doc = nlp(text)\n",
    "for ent in doc.ents:\n",
    "    print (ent.text, ent.label_)"
   ]
  },
  {
   "cell_type": "code",
   "execution_count": null,
   "id": "5fb36ca1",
   "metadata": {},
   "outputs": [],
   "source": [
    "from spacy import displacy\n",
    "doc = nlp(text)\n",
    "for ent in doc.ents:\n",
    "    print (ent.text, ent.label_)\n"
   ]
  },
  {
   "cell_type": "code",
   "execution_count": null,
   "id": "47779a07",
   "metadata": {},
   "outputs": [],
   "source": [
    "displacy.render(doc, style=\"ent\")"
   ]
  },
  {
   "cell_type": "code",
   "execution_count": null,
   "id": "7cbea22c",
   "metadata": {},
   "outputs": [],
   "source": [
    "doc = nlp(\"Hello world!\")\n",
    "for token in doc:\n",
    "    print(token.text)\n"
   ]
  },
  {
   "cell_type": "code",
   "execution_count": null,
   "id": "4d3c5e12",
   "metadata": {},
   "outputs": [],
   "source": [
    "nlp = spacy.load(\"en_core_web_md\")\n",
    "doc = nlp(\"Apple is looking at buying Swiss startup for $10 billion.\")\n",
    "\n",
    "for ent in doc.ents:\n",
    "    print(ent.text, ent.label_)\n"
   ]
  },
  {
   "cell_type": "code",
   "execution_count": null,
   "id": "160fed6a",
   "metadata": {},
   "outputs": [],
   "source": [
    "from spacy import displacy\n",
    "displacy.render(doc, style=\"ent\")\n"
   ]
  },
  {
   "cell_type": "code",
   "execution_count": null,
   "id": "12dac22a",
   "metadata": {},
   "outputs": [],
   "source": [
    "spacy.explain(\"NORP\") "
   ]
  },
  {
   "cell_type": "markdown",
   "id": "4e8e8011",
   "metadata": {},
   "source": [
    "# Spacy Matcher"
   ]
  },
  {
   "cell_type": "code",
   "execution_count": null,
   "id": "93c9d786",
   "metadata": {},
   "outputs": [],
   "source": [
    "import spacy\n",
    "from spacy.matcher import Matcher\n",
    "nlp = spacy.load(\"en_core_web_sm\")\n",
    "matcher = Matcher(nlp.vocab)\n",
    "pattern = [{\"LIKE_EMAIL\": True}]\n",
    "matcher.add(\"EMAIL_ADDRESS\",[pattern])\n",
    "pattern2 = [{\"LOWER\": \"email\"}, {\"TEXT\": \"address\"}]\n",
    "matcher.add(\"EMAIL_ADDRESS2\",[pattern2])\n",
    "doc = nlp(\"This is an email address: blupp@aol.com\")\n",
    "matches = matcher(doc)\n",
    "print (matches)\n"
   ]
  },
  {
   "cell_type": "code",
   "execution_count": null,
   "id": "1f15ba05",
   "metadata": {},
   "outputs": [],
   "source": [
    "for match_id, start, end in matches:\n",
    "\tmatched_span = doc[start:end]\n",
    "\tprint(matched_span.text)\n"
   ]
  },
  {
   "cell_type": "code",
   "execution_count": null,
   "id": "dd491e7e",
   "metadata": {},
   "outputs": [],
   "source": [
    "nlp.analyze_pipes()"
   ]
  },
  {
   "cell_type": "markdown",
   "id": "3783cc98",
   "metadata": {},
   "source": [
    "# Digression (ignore that for now)"
   ]
  },
  {
   "cell_type": "code",
   "execution_count": null,
   "id": "6daab0cf",
   "metadata": {},
   "outputs": [],
   "source": [
    "nlp2 = spacy.load(\"en_core_web_sm\")\n",
    "doc = nlp2(\"I love coffee\")\n",
    "lex = nlp2.vocab[\"coffee\"]\n",
    "\n",
    "print(lex.text, lex.orth, lex.is_alpha)\n"
   ]
  },
  {
   "cell_type": "code",
   "execution_count": null,
   "id": "9e3865d7",
   "metadata": {},
   "outputs": [],
   "source": [
    "nlp = spacy.load(\"en_core_web_md\")\n",
    "doc1 = nlp(\"This is my green sentence.\")\n",
    "doc2 = nlp(\"This is a blue sentence.\")\n",
    "print(doc1.similarity(doc2))"
   ]
  },
  {
   "cell_type": "code",
   "execution_count": null,
   "id": "dcc1d455",
   "metadata": {},
   "outputs": [],
   "source": [
    "token1 = doc1[3]\n",
    "token2 = doc2[3]\n",
    "print(token1.similarity(token2))"
   ]
  },
  {
   "cell_type": "code",
   "execution_count": null,
   "id": "c1966d4b",
   "metadata": {},
   "outputs": [],
   "source": [
    "print(nlp.pipe_names)"
   ]
  },
  {
   "cell_type": "code",
   "execution_count": null,
   "id": "3803bde9",
   "metadata": {},
   "outputs": [],
   "source": [
    "### curl --proto '=https' --tlsv1.2 -sSf https://sh.rustup.rs | sh\n",
    "### !pip install simpletransformers\n",
    "!pip install torch"
   ]
  },
  {
   "cell_type": "code",
   "execution_count": null,
   "id": "8dde78f4",
   "metadata": {},
   "outputs": [],
   "source": [
    "import pandas as pd\n",
    "data = pd.read_csv(\"ner_dataset.csv\",encoding=\"latin1\" )\n",
    "data = data.fillna(method =\"ffill\")"
   ]
  },
  {
   "cell_type": "code",
   "execution_count": null,
   "id": "2e00f138",
   "metadata": {},
   "outputs": [],
   "source": [
    "from sklearn.preprocessing import LabelEncoder\n",
    "from sklearn.model_selection import train_test_split\n",
    "from sklearn.metrics import accuracy_score\n",
    "data[\"Sentence #\"] = LabelEncoder().fit_transform(data[\"Sentence #\"] )"
   ]
  },
  {
   "cell_type": "code",
   "execution_count": null,
   "id": "139d5ca6",
   "metadata": {},
   "outputs": [],
   "source": [
    "data.head(30)\n",
    "data.rename(columns={\"Sentence #\":\"sentence_id\",\"Word\":\"words\",\"Tag\":\"labels\"}, inplace =True)\n",
    "data[\"labels\"] = data[\"labels\"].str.upper()"
   ]
  },
  {
   "cell_type": "code",
   "execution_count": null,
   "id": "04ef1357",
   "metadata": {},
   "outputs": [],
   "source": [
    "X= data[[\"sentence_id\",\"words\"]]\n",
    "Y =data[\"labels\"]\n",
    "x_train, x_test, y_train, y_test = train_test_split(X,Y, test_size =0.2)\n",
    "#building up train data and test data\n",
    "train_data = pd.DataFrame({\"sentence_id\":x_train[\"sentence_id\"],\"words\":x_train[\"words\"],\"labels\":y_train})\n",
    "test_data = pd.DataFrame({\"sentence_id\":x_test[\"sentence_id\"],\"words\":x_test[\"words\"],\"labels\":y_test})"
   ]
  },
  {
   "cell_type": "code",
   "execution_count": null,
   "id": "3da3bd21",
   "metadata": {},
   "outputs": [],
   "source": [
    "train_data"
   ]
  },
  {
   "cell_type": "code",
   "execution_count": null,
   "id": "61a21d40",
   "metadata": {},
   "outputs": [],
   "source": [
    "from simpletransformers.ner import NERModel,NERArgs\n",
    "label = data[\"labels\"].unique().tolist()\n",
    "args = NERArgs()\n",
    "args.num_train_epochs = 1\n",
    "args.learning_rate = 1e-4\n",
    "args.overwrite_output_dir =True\n",
    "args.train_batch_size = 32\n",
    "args.eval_batch_size = 32"
   ]
  },
  {
   "cell_type": "code",
   "execution_count": null,
   "id": "feb35c41",
   "metadata": {},
   "outputs": [],
   "source": [
    "model = NERModel('bert', 'bert-base-cased',labels=label,args =args, use_cuda=False)"
   ]
  },
  {
   "cell_type": "code",
   "execution_count": null,
   "id": "d1fdd047",
   "metadata": {},
   "outputs": [],
   "source": [
    "model.train_model(train_data,eval_data = test_data,acc=accuracy_score)"
   ]
  },
  {
   "cell_type": "code",
   "execution_count": null,
   "id": "caccdfe3",
   "metadata": {},
   "outputs": [],
   "source": [
    "result, model_outputs, preds_list = model.eval_model(test_data)"
   ]
  },
  {
   "cell_type": "code",
   "execution_count": null,
   "id": "67166e82",
   "metadata": {},
   "outputs": [],
   "source": [
    "result"
   ]
  },
  {
   "cell_type": "code",
   "execution_count": null,
   "id": "59742c9b",
   "metadata": {},
   "outputs": [],
   "source": [
    "prediction, model_output = model.predict([\"What is the new name of Bangalore\"])"
   ]
  },
  {
   "cell_type": "code",
   "execution_count": null,
   "id": "cc8a702b",
   "metadata": {},
   "outputs": [],
   "source": [
    "prediction"
   ]
  }
 ],
 "metadata": {
  "language_info": {
   "name": "python",
   "pygments_lexer": "ipython3"
  }
 },
 "nbformat": 4,
 "nbformat_minor": 5
}
